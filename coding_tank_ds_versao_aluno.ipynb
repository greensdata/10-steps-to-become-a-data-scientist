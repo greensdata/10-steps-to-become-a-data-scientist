{
  "nbformat": 4,
  "nbformat_minor": 0,
  "metadata": {
    "colab": {
      "provenance": [],
      "include_colab_link": true
    },
    "kernelspec": {
      "name": "python3",
      "display_name": "Python 3"
    },
    "language_info": {
      "name": "python"
    }
  },
  "cells": [
    {
      "cell_type": "markdown",
      "metadata": {
        "id": "view-in-github",
        "colab_type": "text"
      },
      "source": [
        "<a href=\"https://colab.research.google.com/github/g3rley/10-steps-to-become-a-data-scientist/blob/master/coding_tank_ds_versao_aluno.ipynb\" target=\"_parent\"><img src=\"https://colab.research.google.com/assets/colab-badge.svg\" alt=\"Open In Colab\"/></a>"
      ]
    },
    {
      "cell_type": "markdown",
      "source": [
        "\n",
        "Lógica de Programação com Python\n",
        "---\n",
        "\n",
        "Isso que você acaba de acessar é uma plataforma que permite que seus usuários possam criar *notebooks* e compartilhar com outras pessoas de forma colaborativa. Portanto, sinta-se convidado conhecer mais através das documentações e a compartilhar seus próprios conteúdos e colaborar com sua comunidade.\n",
        "\n",
        "Para nosso propósito, usaremos os *notebooks* como ferramenta para registro de material de apoio. Esta ferramenta permite que códigos python passam ser executados, formando conteúdos dinâmicos, e interajam com textos estáticos, como este que você está lendo. Assim, este promete ser um ambiente interativo, online e de fácil inicialização, já que não exige a instalação e configuração de um ambiente de desenvolvimento em seu próprio computador (esta ferramenta já fez esse trabalho por você 😀)\n",
        "\n",
        "Crie uma cópia desse material e use como quiser. Este será seu companheiro em nossa jornada pelos conceitos iniciais de lógica de programação. *Vamos fazer um combinado desde já???* **Use e abuse deste material!**\n",
        "\n",
        "**Adicione o link para a cópia que você criou na planilha da turma: https://docs.google.com/spreadsheets/d/1EiyjBVaK_l8yZGoTm_EEdVqaBJB4hvVJrnMHzq86A5c/edit?usp=sharing**\n"
      ],
      "metadata": {
        "id": "T3HPoeFwFvow"
      }
    },
    {
      "cell_type": "markdown",
      "source": [
        "# Algoritmos? O que é isso?\n",
        "\n",
        "Segundo o dicionário Oxford (pesquisa feita no google):\n",
        "1. MATEMÁTICA: sequência finita de regras, raciocínios ou operações que, aplicada a um número finito de dados, permite solucionar classes semelhantes de problemas.\n",
        "2. INFORMÁTICA: conjunto das regras e procedimentos lógicos perfeitamente definidos que levam à solução de um problema em um número finito de etapas.\n",
        "\n",
        "❓Lendo essas definições, extrapole este pensamento para a vida real. Cite alguns \"algoritmos\" presentes no seu cotidiano. Dica: receita de bolo?"
      ],
      "metadata": {
        "id": "vpd-LxKEGgf-"
      }
    },
    {
      "cell_type": "markdown",
      "source": [
        "**EDITE ESSA CÉLULA PARA REGISTRAR SUA RESPOSTA**"
      ],
      "metadata": {
        "id": "r34-i76qL6QE"
      }
    },
    {
      "cell_type": "markdown",
      "source": [
        "❓Qualquer código é um algorítmo? Ao criar e executar o código abaixo, estou resolvendo um problema? Execute as célular de código abaixo e, a seguir, crie uma célula de texto com sua resposta."
      ],
      "metadata": {
        "id": "9DvYs71rLe1w"
      }
    },
    {
      "cell_type": "code",
      "source": [],
      "metadata": {
        "id": "oE1YgYBdKWbR"
      },
      "execution_count": null,
      "outputs": []
    },
    {
      "cell_type": "code",
      "source": [],
      "metadata": {
        "id": "ItoiVpGBLXAA"
      },
      "execution_count": null,
      "outputs": []
    },
    {
      "cell_type": "markdown",
      "source": [
        "⁉ Não esqueça da sua resposta"
      ],
      "metadata": {
        "id": "gIWBbzp0L2aa"
      }
    },
    {
      "cell_type": "markdown",
      "source": [
        "# Abstrações\n",
        "\n",
        "Como você deve ter percebido, o tão famoso algoritmo é um conjunto de lógica que resolve um problema. Tendo isso em mente, podemos imaginar-los, num primeiro momento, como uma \"caixinha opaca\" que faz uma porção de coisas e me entrega um resultado.\n",
        "\n",
        "Pois bem... as linguagens de programação, além de já nos dar algumas dessas caixinhas, fornecem uma forma estruturada de criarmos nossas próprias caixinhas que podem ser compostas entre si para resolver problemas. Esse processo de olhar para os problemas e criar caixinhas é chamado de abstração, pois na programação estamos num domíno digital e não temos nenhum elemento concreto, certo? Certo...\n",
        "\n",
        "Porém, não se esqueça que estas instruções digitais impactam diretamente o mundo real em várias perspectivas. Seja no controle de um avião, nas plantas de geração de energia atômica, em nossa conta bancária ou na programação de TV que assistimos, abstrair partes do mundo real para linguagem de máquna é **uma arte**"
      ],
      "metadata": {
        "id": "baZVIfTGMv6p"
      }
    },
    {
      "cell_type": "markdown",
      "source": [
        "# A função das caixinhas\n",
        "\n",
        "Provavelmente você já ouviu a palavra **função** e sei que ela já até assombrou algumas pessoas durante as aulas de matemática. As funções matemáticas também foram a origem deste conceito de caixinhas e, por isso, elas receberam esse nome. Logo, à partir de agora, quando falarmos em **funções** vamos pensar numa caixinha, ok?!\n",
        "\n",
        "Não precisa se assusta, tá?! Nós já criamos uma caixinha numa célula acima e nem dou nada, não é mesmo?\n",
        "\n",
        "Vou começar este assunto mostrando uma caixinha que a linguagem python já criou para gente. O nome dela é *type*. Para analisar essa função vamos responder algumas perguntas conforme o algoritmo a seguir:\n",
        "1. O que essa função faz? Qual é o problema que ela quer resolver?  \n",
        "2. Como podemos usar a função?\n",
        "\n",
        "Respostas:\n",
        "1. Ler [documentação](https://docs.python.org/3.13/library/functions.html#type)\n",
        "2. Ler [documentação](https://docs.python.org/3.13/library/functions.html#type)\n",
        "\n",
        "**Resposta chata né?! Mas aqui vai minha primeira dica: O hábito de ler  documentação será crucial para seu bom desempenho como estudante e como profissional**\n",
        "\n",
        "Vamos para a prática:\n",
        "\n"
      ],
      "metadata": {
        "id": "EDrnhrSFQ-aE"
      }
    },
    {
      "cell_type": "code",
      "source": [],
      "metadata": {
        "id": "0lMuvvrZMhN-"
      },
      "execution_count": null,
      "outputs": []
    },
    {
      "cell_type": "code",
      "source": [],
      "metadata": {
        "id": "eeJTpLyjkrw1"
      },
      "execution_count": null,
      "outputs": []
    },
    {
      "cell_type": "code",
      "source": [],
      "metadata": {
        "id": "uU-E5BL8g_Jd"
      },
      "execution_count": null,
      "outputs": []
    },
    {
      "cell_type": "code",
      "source": [],
      "metadata": {
        "id": "zeIH85S8g-7w"
      },
      "execution_count": null,
      "outputs": []
    },
    {
      "cell_type": "code",
      "source": [],
      "metadata": {
        "id": "WiiGN1bahJ12"
      },
      "execution_count": null,
      "outputs": []
    },
    {
      "cell_type": "markdown",
      "source": [
        "Após executar as células acima reponda:\n",
        "1. Qual é a diferença entre o conteúdo de cada uma delas?\n",
        "2. Qual é a diferença entre o resultado de cada uma delas?\n",
        "3. O que essa função faz?"
      ],
      "metadata": {
        "id": "oDh02ws9hSO5"
      }
    },
    {
      "cell_type": "markdown",
      "source": [
        "# Variáveis, entradas e saídas\n",
        "## 1. Variáveis\n",
        "Em nossos programas, frequentemente precisaremos armazenar dados temporariamente. Esses dados podem ser adquiridos de alguma maneira (digitados pelo teclado, lidos de um arquivo etc.) ou calculados pelo nosso programa com base em outros dados. Imagine, por exemplo, que você gostaria de calcular a média de um aluno a partir de suas notas. Precisaremos que o aluno digite suas notas, e o programa irá calcular um novo valor, a média. Armazenaremos nossos dados temporariamente em **variáveis**.\n",
        "\n",
        "Variáveis são \"pedacinhos de memória\" onde guardamos dados. Sempre que referenciamos o nome, o pedacinho de memória é acessado e seu dado é recuperado.\n",
        "\n",
        "Criamos variáveis dando um nome a elas e usando o operador de atribuição (o sinal de igualdade: **=**) para atribuir um valor inicial."
      ],
      "metadata": {
        "id": "KUVE35iYlkLe"
      }
    },
    {
      "cell_type": "code",
      "source": [],
      "metadata": {
        "id": "ultZ5HcDlnTC"
      },
      "execution_count": null,
      "outputs": []
    },
    {
      "cell_type": "markdown",
      "source": [
        "No exemplo acima, foi criada uma variável chamada **x** que guarda o valor **10**. Ou seja, reservamos um pedacinho de memória e guardamos o número 10 lá.\n",
        "\n",
        "Tente sempre utilizar nomes intuitivos para suas variáveis. O nome deveria ser uma boa descrição do dado que a variável guarda. Nomes como 'x', 'y', 'z', 'a', 'b', 'c', 'a1', 'a2', 'a3' etc. podem se tornar bastante confusos quando nossos códigos são muito grandes. Quanto mais descritivos os nomes forem, melhor.\n",
        "\n",
        "Os nomes de variáveis podem conter letras, números e o símbolo ```_```, mas eles não podem começar com número.\n",
        "\n",
        "> Dica: existe uma grande variedade de padrões diferentes que podemos adotar para nomear nossas variáveis. Em Python é recomendável utilizar o padrão conhecido como _snake case_, em que nomes de variáveis com múltiplas palavras adotam o símbolo ```_``` para separar as palavras. Exemplos: ```nome_completo```, ```nota_da_prova``` etc.\n",
        "\n",
        "## 2. Tipos de variáveis\n",
        "Variáveis podem ter diferentes tipos. Alguns tipos são considerados **tipos primitivos**, ou seja, eles são tipos de dados mais básicos que podem ser utilizados para compor outros tipos mais complexos. Em Python esses tipos levam os seguintes nomes:\n",
        "\n",
        "* **int**: números _inteiros_, ou seja, números sem parte decimal: 0, 5, -1, 1000\n",
        "* **float**: números _reais_, ou seja, números com parte decimal: 1.0, -2.7, 3.14\n",
        "* **str**: cadeias de _caracteres_ (_strings_), ou seja, dados textuais: 'Olá Mundo!', \"eu tenho 18 anos\"\n",
        "* **bool**: valores _lógicos_ (_booleanos_), ou seja, apenas um entre dois valores possíveis: _True_ ou _False_"
      ],
      "metadata": {
        "id": "FGdP0J2-l5q8"
      }
    },
    {
      "cell_type": "code",
      "source": [],
      "metadata": {
        "id": "IIWGyxt_lnWM"
      },
      "execution_count": null,
      "outputs": []
    },
    {
      "cell_type": "markdown",
      "source": [
        "O Python é uma linguagem **dinamicamente tipada**. Isso significa que não precisamos especificar o tipo de uma variável: a própria linguagem tenta determinar o tipo de acordo com o dado atribuído à variável.\n",
        "\n",
        "## 3. Comentários\n",
        "Note que nos exemplos acima, escrevemos textos no meio do código utilizando o símbolo **#**.\n",
        "Esses textos são **comentários**: quando utilizamos o símbolo **#**, o Python irá ignorar tudo o que vier em seguida (na mesma linha). Utilizamos comentários para explicar pedaços do nosso código para que nós mesmos ou outros colegas no futuro entendam o que fizemos e possam modificar ou corrigir o código com mais facilidade.\n",
        "Também podemos escrever comentários de múltiplas linhas utilizando aspas triplas - neste caso, as utilizamos para abrir e depois para fechar o bloco de comentários."
      ],
      "metadata": {
        "id": "tT0uIU1XmC9Z"
      }
    },
    {
      "cell_type": "code",
      "source": [],
      "metadata": {
        "colab": {
          "base_uri": "https://localhost:8080/",
          "height": 53
        },
        "id": "V-6kH3QalnZ4",
        "outputId": "11918441-8583-4232-c9bf-13804f11c0fc"
      },
      "execution_count": null,
      "outputs": [
        {
          "output_type": "execute_result",
          "data": {
            "text/plain": [
              "'\\nEste é um comentário de várias linhas.\\nTudo que veio após o primeiro trio de aspas e antes do segundo\\nserá ignorado pelo Python.\\n'"
            ],
            "application/vnd.google.colaboratory.intrinsic+json": {
              "type": "string"
            }
          },
          "metadata": {},
          "execution_count": 3
        }
      ]
    },
    {
      "cell_type": "markdown",
      "source": [
        "Na verdade, esse tipo de comentário não é exatamente um comentário, mas uma string com múltiplas linhas. O Python enxerga que apenas \"declaramos\" uma string no meio do código, sem utilizá-la ou atribuí-la para qualquer variável, e por conta disso ela é ignorada, funcionando na prática como um comentário.\n",
        "\n",
        "> Na maioria das IDEs você possui teclas de atalho para facilmente transformar um bloco inteiro de código em comentário para temporariamente desabilitá-lo. Isso pode ser útil quando estamos testando soluções alternativas para um problema ou corrigindo erros. No Visual Studio Code, por exemplo, você pode utilizar ```ctrl+/``` para transformar uma seleção em comentário.\n",
        "\n",
        "\n",
        "## 4. Saídas\n",
        "Chamamos de **saídas** do nosso programa todos os dados que são gerados pelo programa e serão fornecidos para o usuário.\n",
        "A função de saída em tela no Python é o **print**. Colocamos entre parênteses o dado que queremos que apareça."
      ],
      "metadata": {
        "id": "d0TDM6LlmN6K"
      }
    },
    {
      "cell_type": "code",
      "source": [],
      "metadata": {
        "id": "dzK3rgRAlndn"
      },
      "execution_count": null,
      "outputs": []
    },
    {
      "cell_type": "markdown",
      "source": [
        "Os dados a serem exibidos não precisam ser valores constantes, como a frase fixa acima. Eles podem ser variáveis:"
      ],
      "metadata": {
        "id": "h7TTHB8wm1du"
      }
    },
    {
      "cell_type": "code",
      "source": [],
      "metadata": {
        "id": "JTVyK4VAlnj-"
      },
      "execution_count": null,
      "outputs": []
    },
    {
      "cell_type": "markdown",
      "source": [
        "> Note que quando usamos aspas, o Python trata o valor como uma _string_, um texto literal. Quando não usamos aspas, o Python irá considerar que aquele é o nome de uma variável e irá acessá-la para buscar seu valor.\n",
        "\n",
        "Podemos exibir múltiplos dados em um **print**. Para isso, basta separá-los por vírgula e eles irão aparecer na tela na mesma ordem que apareceram no código:"
      ],
      "metadata": {
        "id": "JMIRTy1zm8wi"
      }
    },
    {
      "cell_type": "code",
      "source": [],
      "metadata": {
        "id": "gxCEuUUjlnpy"
      },
      "execution_count": null,
      "outputs": []
    },
    {
      "cell_type": "markdown",
      "source": [
        "Note que os dados aparecem em tela separados por um espaço automaticamente. Dois prints sucessivos também possuem uma quebra de linha entre eles. Você pode passar as opções ```sep``` e ```end``` dentro de seu print para especificar diferentes comportamentos. Exemplo:"
      ],
      "metadata": {
        "id": "JwhBON6ynbN4"
      }
    },
    {
      "cell_type": "code",
      "source": [],
      "metadata": {
        "id": "cmZdcaKqlny_"
      },
      "execution_count": null,
      "outputs": []
    },
    {
      "cell_type": "markdown",
      "source": [
        "Dica: caso você ache confuso separar os dados por vírgulas, você pode alternativamente utilizar uma _f-string_. Não entraremos em detalhes agora, mas o funcionamento básico é simples: coloque um _f_ antes de abrir aspas, e dentro do texto você pode colocar o nome das variáveis entre chaves. o ```print``` abaixo terá o mesmo resultado que o exemplo anterior:"
      ],
      "metadata": {
        "id": "zusnMbz6nhUd"
      }
    },
    {
      "cell_type": "code",
      "source": [],
      "metadata": {
        "id": "CIncqu63nCqR"
      },
      "execution_count": null,
      "outputs": []
    },
    {
      "cell_type": "markdown",
      "source": [
        "## 5. Entradas\n",
        "Assim como temos dados de saída - dados gerados pelo código e fornecidos para o usuário - também temos dados de **entrada**: informações que o usuário possui e deve fornecer ao código.\n",
        "Para receber entradas pelo teclado, utilizaremos a função **input**. Devemos levar uma variável a receber o valor capturado pelo input."
      ],
      "metadata": {
        "id": "m9NEbu49nqQy"
      }
    },
    {
      "cell_type": "code",
      "source": [],
      "metadata": {
        "id": "lUWJGyLtnCt7"
      },
      "execution_count": null,
      "outputs": []
    },
    {
      "cell_type": "markdown",
      "source": [
        "O programa acima captura o nome do usuário e em seguida mostra a mensagem \"olá\" seguida do nome do usuário.\n",
        "Note que o programa fica parado em uma tela em branco com um cursor piscando aguardando a digitação pelo usuário. Isso pode ser confuso para o usuário, que não sabe o que o programa está esperando. Por isso, dentro dos parênteses do input podemos colocar uma mensagem simples informando o que o programa gostaria que ele fizesse:"
      ],
      "metadata": {
        "id": "4z41vtEGnyeA"
      }
    },
    {
      "cell_type": "code",
      "source": [],
      "metadata": {
        "id": "n_Kc1m7nnCx3"
      },
      "execution_count": null,
      "outputs": []
    },
    {
      "cell_type": "markdown",
      "source": [
        "### 5.1. Determinando o tipo da entrada\n",
        "Vamos imaginar um programa que informa quantos anos falta para que uma criança atinja a maioridade. Podemos ler a idade da criança pelo teclado (_entrada_), subtrair a idade do número 18 (_processamento_) e exibir o resultado da conta na tela (_saída_). Considere a solução abaixo:"
      ],
      "metadata": {
        "id": "rNBndwopn8jP"
      }
    },
    {
      "cell_type": "code",
      "source": [],
      "metadata": {
        "id": "wXSrSQMOnC2B"
      },
      "execution_count": null,
      "outputs": []
    },
    {
      "cell_type": "markdown",
      "source": [
        "Se você executar o programa, ele dará erro na segunda linha. Isso ocorre porque o teclado é uma \"máquina de escrever\" um pouco mais moderna. Portanto, tudo que entra pelo teclado é considerado pelo Python como texto (ou seja, _str_). Porém, não podemos \"fazer contas\" com textos. Fazemos contas com números. Portanto, neste caso, precisamos falar para o Python interpretar a nossa entrada como um número. Um bom tipo de dado para \"idade\" seria um número inteiro. Fazemos isso colocando o nome do tipo desejado, e entre parênteses colocamos nosso input:"
      ],
      "metadata": {
        "id": "yuPMvKV0oOjY"
      }
    },
    {
      "cell_type": "code",
      "source": [],
      "metadata": {
        "id": "uRfwM00znObh"
      },
      "execution_count": null,
      "outputs": []
    },
    {
      "cell_type": "markdown",
      "source": [],
      "metadata": {
        "id": "z8hqyYvlrO2y"
      }
    },
    {
      "cell_type": "markdown",
      "source": [
        "Chamamos essa operação de **coerção de tipo**. Em materiais em inglês você verá essa operação com o nome *casting*. Tome cuidado: operações de coerção podem resultar em perdas de dados. Se você converter o número float 3.9 para int, ele **não** arredondará para 4, e sim descartará a parte fracionária, resultando em 3.\n",
        "\n",
        "> Neste início, mensagens de erro podem parecer intimidadoras. Elas aparecem em vermelho e frequentemente possuem nomes técnicos e expressões em inglês. Mas crie o hábito de tentar compreendê-las. A partir da versão 3.10 do Python elas se tornaram significativamente mais amigáveis. Elas também indicam a linha com erro. Além disso, se você pesquisar em sites de busca por uma mensagem de erro, provavelmente encontrará diversos exemplos e explicações do que pode tê-la provocado e como consertar!\n"
      ],
      "metadata": {
        "id": "knCJ3iinofpZ"
      }
    },
    {
      "cell_type": "markdown",
      "source": [
        "## 6. Expressões aritméticas\n",
        "Como podemos observar no exemplo anterior, o Python faz operações aritméticas de maneira bastante intuitiva, similar ao que estamos acostumados.\n",
        "Os operadores aceitos são:\n",
        "* Soma: **+**\n",
        "* Subtração: **-**\n",
        "* Multiplicação: **\\***\n",
        "* Divisão: **/**\n",
        "* Divisão inteira: **//**\n",
        "* Resto da divisão: **%**\n",
        "* Potência: **\\*\\***"
      ],
      "metadata": {
        "id": "G9Q-0HWgqgYd"
      }
    },
    {
      "cell_type": "code",
      "source": [],
      "metadata": {
        "id": "J6IWKWMUrFwr"
      },
      "execution_count": null,
      "outputs": []
    },
    {
      "cell_type": "markdown",
      "source": [
        "**Operadores de divisão**: Note que temos 3 operadores de divisão. O que seria cada um deles? Vamos supor que numero1 seja 15 e numero2 seja 6.\n",
        "```\n",
        " 15 |__ 6\n",
        "```\n",
        "Quantas vezes o número 6 cabe dentro do 15? Um bom primeiro \"chute\" é 2:\n",
        "\n",
        "```\n",
        " 15 |__ 6\n",
        "     2\n",
        "```\n",
        "\n",
        "Podemos multiplicar 6 por 2, que dará 12. E então subtraímos esse valor de 15:\n",
        "```\n",
        " 15 |__ 6\n",
        "-12     2\n",
        "---\n",
        " 03\n",
        "```\n",
        "\n",
        "Note que, considerando apenas números inteiros, não conseguimos mais prosseguir com a divisão. Neste caso, a **divisão inteira** (```numero1 // numero2```) dará 2. Já o **resto da divisão** (```numero1 % numero2```) dará 3.\n",
        "\n",
        "Porém, considerando casas decimais é possível prosseguir com a divisão:\n",
        "```\n",
        " 15 |__ 6\n",
        "-12     2.5\n",
        "---\n",
        " 03\n",
        "  30\n",
        "- 30\n",
        "----\n",
        "   0\n",
        "```\n",
        "\n",
        "Portanto, a **divisão** real (```numero1 / numero2```) dará 2.5.\n",
        "\n",
        "> **Atenção:** números reais em Python usam ponto para separar as casas decimais, não vírgula:\n",
        ">  - **Errado:** 2,5\n",
        ">  - **Correto:** 2.5"
      ],
      "metadata": {
        "id": "wlOFG0u3rVL8"
      }
    },
    {
      "cell_type": "markdown",
      "source": [],
      "metadata": {
        "id": "jWXdYmV9sBbn"
      }
    },
    {
      "cell_type": "code",
      "source": [],
      "metadata": {
        "id": "asXEagZLjJ2n"
      },
      "execution_count": null,
      "outputs": []
    },
    {
      "cell_type": "markdown",
      "source": [
        "# Operações lógicas\n",
        "\n",
        "## 1. Operações booleanas\n",
        "Quando estudamos variáveis, vimos que existem alguns tipos primitivos: _str_ (texto), _int_ (número inteiro), _float_ (número real) e _bool_ (lógico).\n",
        "Vimos diversas operações **aritméticas** também, como a soma, a divisão ou a potência, cujos resultados são _int_ ou _float_.\n",
        "Porém, podemos ter também operações cujo resultado é _bool_: são operações lógicas.\n",
        "\n",
        "\n",
        "## 1.1. Comparações\n",
        "Algumas das operações lógicas mais conhecidas são as comparações:"
      ],
      "metadata": {
        "id": "ErCThya5uU9x"
      }
    },
    {
      "cell_type": "code",
      "source": [],
      "metadata": {
        "id": "sCVOBPQRuVoV"
      },
      "execution_count": null,
      "outputs": []
    },
    {
      "cell_type": "markdown",
      "source": [
        "Isso ocorre porque 5 é maior que 3. Portanto, comparacao1 recebeu uma expressão cujo valor lógico é **verdadeiro**, portanto seu resultado foi _True_, e o oposto ocorreu para comparacao2.\n",
        "O Python possui 6 operadores de comparação:\n",
        "\n",
        "* Maior que: **>**\n",
        "* Maior ou igual: **>=**\n",
        "* Menor que: **<**\n",
        "* Menor ou igual: **<=**\n",
        "* Igual: **==**\n",
        "* Diferente: **!=**\n",
        "\n",
        "> Note que o operador para comparar se 2 valores são iguais é **==**, e não **=**. Isso ocorre porque o operador **=** é o nosso operador de **atribuição**: ele diz que a variável à sua esquerda deve receber o valor da expressão à direita. O operador de **==** irá testar **se** o valor à sua esquerda é igual ao valor à sua direita e irá responder _True_ ou _False_, como todos os outros operadores de comparação.\n",
        "\n",
        "## 1.2 Negação lógica\n",
        "Outra operação lógica bastante importante é a negação. Ela inverte o resultado de uma expressão lógica. Caso a expressão resulte em _True_, a sua negação irá resultar em _False_, e vice-versa.\n",
        "\n",
        "A negação em Python é representada pela palavra **not**. Vamos modificar o exemplo anterior:"
      ],
      "metadata": {
        "id": "9qBB_nqputs6"
      }
    },
    {
      "cell_type": "code",
      "source": [],
      "metadata": {
        "id": "6_zsLdvyuoSO"
      },
      "execution_count": null,
      "outputs": []
    },
    {
      "cell_type": "markdown",
      "source": [
        "Podemos resumir o funcionamento do **not** utilizando uma **tabela-verdade**. Nela testamos os diferentes valores possíveis para a entrada e anotamos o resultado para cada conjunto de valores:\n",
        "\n",
        "| A     | not A     |\n",
        "|-------|-----------|\n",
        "| True  | **False** |\n",
        "| False | **True**  |\n",
        "\n",
        "\n",
        "### 1.2. Conjunção lógica\n",
        "Em alguns casos precisamos testar se duas ou mais condições são verdadeiras.\n",
        "\n",
        "Imagine, por exemplo, que o critério de aprovação em uma escola seja a média superior a 6.0 **e** presença superior a 75%. Neste caso, o aluno precisa atender a ambos os critérios para ser aprovado. Se ele tirou uma ótima nota, mas faltou demais, será reprovado. Se ele compareceu a todas as aulas, mas teve notas baixas, idem.\n",
        "\n",
        "A conjunção lógica, também conhecida como **e lógico**, é representada em Python pela palavra **and**.\n",
        "\n",
        "O código abaixo testa se é verdade que o aluno foi aprovado:"
      ],
      "metadata": {
        "id": "sguY9vhiu676"
      }
    },
    {
      "cell_type": "code",
      "source": [],
      "metadata": {
        "id": "JE3BFtN5u1xw"
      },
      "execution_count": null,
      "outputs": []
    },
    {
      "cell_type": "markdown",
      "source": [
        "Execute o código acima e teste algumas combinações diferentes de valores. Note que basta uma das condições ser falsa para que o resultado total seja _False_.\n",
        "\n",
        "A tabela-verdade para o **e lógico** entre duas entradas A e B é:\n",
        "\n",
        "| A     | B     | A and B   |\n",
        "|-------|-------|-----------|\n",
        "| False | False | **False** |\n",
        "| False | True  | **False** |\n",
        "| True  | False | **False** |\n",
        "| True  | True  | **True**  |\n",
        "\n",
        "\n",
        " ### 1.3. Disjunção lógica\n",
        "\n",
        "Nem sempre precisamos que ambas as condições sejam verdadeiras. Vários de nós já nos deparamos com promoções de queima de estoque anunciadas da seguinte maneira: \"promoção válida até o dia 15 deste mês **ou** enquanto durarem os estoques\".\n",
        "\n",
        "Neste caso, para a promoção acabar, não é necessário que ambas as coisas ocorram (atingir o dia 15 e zerar o estoque). Se ainda temos 10 itens no estoque, mas hoje é dia 16, a promoção acabou. Se hoje é dia 5, mas o estoque está zerado, a promoção acabou.\n",
        "\n",
        "A disjunção lógica, também chamada de **ou lógico**, é representada em Python pela palavra **or**.\n",
        "\n",
        "O programa abaixo testa se a promoção acabou:"
      ],
      "metadata": {
        "id": "Lsr7BT1wvI6I"
      }
    },
    {
      "cell_type": "code",
      "source": [],
      "metadata": {
        "id": "OhfPuRVavAAz"
      },
      "execution_count": null,
      "outputs": []
    },
    {
      "cell_type": "markdown",
      "source": [
        "Faça alguns testes com o programa acima e note que basta uma condição ser verdadeira para seu resultado ser _True_.\n",
        "\n",
        "A tabela-verdade para o **ou lógico** é:\n",
        "\n",
        "| A     | B     | A and B   |\n",
        "|-------|-------|-----------|\n",
        "| False | False | **False** |\n",
        "| False | True  | **True**  |\n",
        "| True  | False | **True**  |\n",
        "| True  | True  | **True**  |\n",
        "\n",
        "\n",
        ">**Resumo**:\n",
        "> * **not**: inverte a expressão original\n",
        "> * **and**: verdadeiro apenas se ambas as condições forem verdadeiras\n",
        "> * **or**: falso apenas se ambas as condições forem falsas"
      ],
      "metadata": {
        "id": "9ho4sqV2v28r"
      }
    },
    {
      "cell_type": "markdown",
      "source": [
        "# Expressões condicionais\n",
        "## 1.1. Se\n",
        "Os programas do capítulo _Operações Lógicas_ não são \"amigáveis\" para o usuário. Ao invés de mostrar _True_ ou _False_, por exemplo, seria mais útil exibir se o aluno foi \"Aprovado\" ou \"Reprovado\".\n",
        "\n",
        "Para que possamos escrever na tela as mensagens \"Aprovado\" ou \"Reprovado\", é necessário que haja em algum ponto do código o trecho _print('Aprovado')_ e o trecho _print('Reprovado')_. Porém, não gostaríamos que ambos fossem exibidos ao mesmo tempo.\n",
        "\n",
        "Precisamos *ramificar* o fluxo de execução de nosso programa: em certas circunstâncias, o fluxo deve executar algumas linhas de código e ignorar outras.\n",
        "\n",
        "Uma **condicional** é uma instrução em Python que decide se outras linhas serão ou não executadas dependendo do resultado de uma condição. A condição nada mais é do que uma expressão lógica. Se a condição for verdadeira, as linhas são executadas. Senão, são ignoradas.\n",
        "\n",
        "A condicional mais básica em Python é o **if** (se):"
      ],
      "metadata": {
        "id": "YBtwrykywNa7"
      }
    },
    {
      "cell_type": "code",
      "source": [],
      "metadata": {
        "id": "f44h0N80vPpj"
      },
      "execution_count": null,
      "outputs": []
    },
    {
      "cell_type": "markdown",
      "source": [
        "Execute o programa acima. Note que **se** (if) a média é maior ou igual a 6.0, ele exibe a mensagem \"Aprovado\" e depois a média. Caso contrário, ele apenas exibe a média.\n",
        "\n",
        "> Para dizermos que uma ou mais linhas \"pertencem\" ao nosso **if**, usamos um símbolo de parágrafo (tecla \"Tab\" no teclado). O programa sabe que o _if_ \"acabou\" quando as linhas param de ter \"tabs\". Esses tabs são chamados de **indentação**. Tanto no _if_ quanto no restante das estruturas de controle que estudaremos é obrigatório ter pelo menos 1 linha indentada abaixo da linha de controle.\n",
        "\n",
        "## 1.2. Senão\n",
        "Note que conseguimos fazer nosso programa decidir se ele exibe a mensagem \"Aprovado\" ou não. O próximo passo seria fazer ele decidir entre 2 mensagens diferentes: \"Aprovado\" ou \"Reprovado\". Um primeiro jeito de fazer isso seria um segundo **if** invertendo a condição:"
      ],
      "metadata": {
        "id": "VKKXTWtvwXMT"
      }
    },
    {
      "cell_type": "code",
      "source": [],
      "metadata": {
        "id": "sJNlgcAEwQ2Y"
      },
      "execution_count": null,
      "outputs": []
    },
    {
      "cell_type": "markdown",
      "source": [
        "O programa acima funciona. Porém, conforme nossos programas começam a ficar mais complexos e nossos **if** começam a ter linhas demais, podemos nos perder e esquecer que esses 2 **if** são 2 casos mutuamente exclusivos. Pior ainda, podemos vir a acrescentar condições novas em um e esquecer de atualizar no outro.\n",
        "\n",
        "Nos casos em que temos condições mutuamente exclusivas, podemos utilizar um par **if**/**else** (se/senão). **Se** a condição for verdadeira, faça tal coisa. **Senão**, faça outra coisa."
      ],
      "metadata": {
        "id": "hvcRVtIPwjIB"
      }
    },
    {
      "cell_type": "code",
      "source": [],
      "metadata": {
        "id": "c_wYwn4jweLT"
      },
      "execution_count": null,
      "outputs": []
    },
    {
      "cell_type": "markdown",
      "source": [
        "Note que o **else** não possui condição. A condição dele é implícita: é a negação da condição do **if**. Se o **if** executar, o **else** não executa e vice-versa. Consequentemente, **o else não pode existir sem um if**.\n",
        "\n",
        "## 1.3. Aninhando condições\n",
        "É possível _aninhar_ condições: ou seja, colocar um novo **if** dentro de outro **if** ou **else**. Imagine que nossa escola não reprova direto o aluno com nota inferior a 6, e sim permite que ele faça uma recuperação. Porém, o aluno precisa ter tirado no mínimo média 3 para que permitam que faça a recuperação. Assim temos:\n",
        "\n",
        "* Se nota maior ou igual a 6: aprovado.\n",
        "* Senão:\n",
        "* * Se nota entre 6 e 3: recuperação.\n",
        "* * Senão: reprovado.\n",
        "Em Python:"
      ],
      "metadata": {
        "id": "Pko6YcdDwtMB"
      }
    },
    {
      "cell_type": "code",
      "source": [],
      "metadata": {
        "id": "iw-J9C3ywmzT"
      },
      "execution_count": null,
      "outputs": []
    },
    {
      "cell_type": "markdown",
      "source": [
        "#### 1.4. Senão-se\n",
        "Note que se começarmos a aninhar muitas condições (if dentro de else dentro de else dentro de else...), nosso código pode começar a ficar confuso, com a aparência de uma \"escadinha\":\n",
        "\n",
        "```\n",
        "Se\n",
        "Senão:\n",
        "    Se\n",
        "    Senão:\n",
        "        Se\n",
        "        Senão:\n",
        "            Se:\n",
        "            Senão:\n",
        "                Se:\n",
        "                 ...\n",
        "```\n",
        "\n",
        "Isso pode tornar o código bastante complexo e difícil de atualizar ou corrigir erros posteriormente. Para quebrar a \"escadinha\", existe a possibilidade de juntarmos o \"se\" do próximo nível com o \"senão\" do nível anterior: o **elif**: **else** + **if** (senão + se).\n",
        "\n",
        "O elif só é executado se um **if** der errado (ou seja, ele é um **else**), mas ele também tem uma condição que deve ser respeitada (ou seja, ele também é um **if**). Podemos reescrever nosso código anterior utilizando um **elif**:"
      ],
      "metadata": {
        "id": "-qp-w-rxw5iT"
      }
    },
    {
      "cell_type": "code",
      "source": [],
      "metadata": {
        "id": "SxRlGwpBwwei"
      },
      "execution_count": null,
      "outputs": []
    },
    {
      "cell_type": "markdown",
      "source": [
        "Podemos usar quantos **elif** nós quisermos. Sempre que um deles der errado, o próximo será testado. Quando algum deles der certo, todo o restante será ignorado.\n",
        "\n",
        "Opcionalmente, podemos ter um **else** ao final do bloco, que só será executado se o **if** e todos os **elif** derem errado.  \n",
        "\n",
        "O bloco, **obrigatoriamente**, deve ser iniciado com um _if_.\n",
        "\n",
        "### Atenção\n",
        "\n",
        "> Você lembra dos valores *truthy* e *falsy*? Nós conversamos sobre eles no capítulo *Operações Lógicas*. Uma variável, qualquer que seja seu tipo, pode ser interpretada pelo **if** como se fosse uma expressão lógica.\n",
        ">\n",
        "> Se ```x```  for um\n",
        "inteiro, o bloco ```if x:``` será executado caso ```x``` seja diferente de zero, por exemplo.\n",
        ">\n",
        "> Uma fonte comum de erros em iniciantes envolve o uso de **and** ou **or** em condicionais e a forma como Python lida com valores *truthy* e *falsy*. Execute o trecho de código abaixo:"
      ],
      "metadata": {
        "id": "gPeAgDmVxB9o"
      }
    },
    {
      "cell_type": "code",
      "source": [],
      "metadata": {
        "id": "5LQuRai6w9Zi"
      },
      "execution_count": null,
      "outputs": []
    },
    {
      "cell_type": "markdown",
      "source": [
        "> Você verá que ele nem sempre se comporta como você imaginaria. O Python não irá interpretar a condição do **if** como \"seguro diferente de 'sim' e seguro diferente de 'não'\", e sim como \"(seguro diferente de 'sim') e ('não').\n",
        ">\n",
        "> Isso ocorre porque no **if** temos uma expressão lógica do tipo\n",
        "```expressão1 and expressão2```.\n",
        "Nossa expressão1 é ```seguro != 'sim'```, e nossa expressão2 é apenas a string ```'não'```.\n",
        ">\n",
        "> A expressão2 é, portanto, uma string não-vazia, portanto ela é *truthy*. O Python irá implicitamente convertê-la para o valor lógico **True**.\n",
        "Portanto, temos a expressão ```(seguro !='sim') and (True)```. Logo, a condição será verdadeira se ```seguro !='sim'``` e falsa caso contrário. Logo, se você digitar \"não\", a expressão é falsa e o programa dirá que você digitou algo inválido.\n",
        ">\n",
        "> Para evitar esse problema, você precisa ser explícito em suas condições:"
      ],
      "metadata": {
        "id": "mjDEd1flxWp_"
      }
    },
    {
      "cell_type": "code",
      "source": [],
      "metadata": {
        "id": "cIbVnHjaxFs4"
      },
      "execution_count": null,
      "outputs": []
    },
    {
      "cell_type": "markdown",
      "source": [
        "# Malhas de repetição condicionais\n",
        "\n",
        "Imagine que você queira fazer um programa que exibe os números de 1 até 5, em ordem crescente. Uma possibilidade seria:"
      ],
      "metadata": {
        "id": "68c7ykTzyfQP"
      }
    },
    {
      "cell_type": "code",
      "source": [],
      "metadata": {
        "id": "eM8Ebba7xbeW"
      },
      "execution_count": null,
      "outputs": []
    },
    {
      "cell_type": "markdown",
      "source": [
        "Porém, imagine que os requisitos do programa acabam sendo alterados, e agora o seu programa deverá ir até 1000. Ou, pior, imagine que o usuário irá digitar um valor e seu programa deverá contar apenas até o valor digitado. Note como fica difícil resolver esses problemas apenas copiando e colando linhas de código.\n",
        "\n",
        "Vamos pensar em outro tipo de problema. Na aula passada, fizemos um exercício onde precisávamos validar algumas entradas do usuário. Uma dessas entradas era a idade, e gostaríamos de aceitar apenas valores entre 0 e 150. Sua solução provavelmente foi parecida com o código abaixo:"
      ],
      "metadata": {
        "id": "yGYHZ8omykqk"
      }
    },
    {
      "cell_type": "code",
      "source": [],
      "metadata": {
        "id": "GMRe_Ys1yiIM"
      },
      "execution_count": null,
      "outputs": []
    },
    {
      "cell_type": "markdown",
      "source": [
        "Mas imagine que, ao invés de apenas mostrar uma mensagem de erro, nós devêssemos obrigar o usuário a continuar digitando valores novos para idade até que ele digite um valor válido (entre 0 e 150). Isso não seria possível utilizando apenas **if**, **elif** e **else**.\n",
        "\n",
        "## 1.1. Enquanto\n",
        "\n",
        "Os problemas enunciados acima podem ser resolvidos utilizando estruturas do tipo \"enquanto\".\n",
        "Em Python, a instrução **while** é bastante parecida com o **if**: ela possui uma expressão lógica, e seu conteúdo só será executado se a expressão for verdadeira. Porém, após chegar ao final, ela retorna ao início e testa novamente a condição.\n",
        "\n",
        "Se ela for verdadeira, seu conteúdo será executado de novo. Ao final da nova execução, a condição é testada novamente, e assim sucessivamente. A execução só será interrompida quando o teste se tornar falso.\n",
        "Vejamos como resolver o problema da idade utilizando o **while**:"
      ],
      "metadata": {
        "id": "80KYxNyhyuL9"
      }
    },
    {
      "cell_type": "code",
      "source": [],
      "metadata": {
        "id": "tj5EJ-faypHE"
      },
      "execution_count": null,
      "outputs": []
    },
    {
      "cell_type": "markdown",
      "source": [
        "Faça alguns testes com o programa acima. Note que se você digitar uma idade válida desde o início, ele nunca chega a mostrar erro: o **while** é como um **if** e será ignorado se sua condição for falsa. Porém, caso você digite valores inválidos, a condição será verdadeira e ele irá executar _enquanto_ você estiver digitando valores falsos.\n",
        "\n",
        "Estruturas do tipo \"enquanto\" são conhecidas como _malhas de repetição_ ou _loops_.\n",
        "\n",
        "## 1.2. Condição de parada\n",
        "\n",
        "No exemplo anterior, o que determina se o _loop_ prossegue ou não é o valor de idade. Esse valor, por sua vez, pode mudar em cada execução do _loop_, já que temos um **input** lá dentro.\n",
        "Experimente rodar o programa sem aquele **input** e verifique o que ocorre."
      ],
      "metadata": {
        "id": "MWAku_nKy4ik"
      }
    },
    {
      "cell_type": "code",
      "source": [],
      "metadata": {
        "id": "v7kf7nD9yy4z"
      },
      "execution_count": null,
      "outputs": []
    },
    {
      "cell_type": "markdown",
      "source": [
        "O que ocorreu é o que chamamos de _loop infinito_: se a condição for verdadeira uma vez, ela será para sempre, já que nunca mais alteramos o valor da variável envolvida no teste lógico.\n",
        "É importante criar caminhos para que a condição possa se tornar falsa em algum momento. Isso é o que chamamos de **condição de parada** do nosso loop.\n",
        "\n",
        "## 1.3. Sequências numéricas\n",
        "\n",
        "Iniciamos essa aula enunciando um problema onde gostaríamos de exibir números sequencialmente na tela. Isso é possível de resolver utilizando _loops_.\n",
        "Primeiro, observe o exemplo abaixo e responda: qual valor aparecerá na tela?"
      ],
      "metadata": {
        "id": "czzXxvk-zGbi"
      }
    },
    {
      "cell_type": "code",
      "source": [],
      "metadata": {
        "id": "ApbJPJ3Ty_nW"
      },
      "execution_count": null,
      "outputs": []
    },
    {
      "cell_type": "markdown",
      "source": [
        "Essa construção parece pouco intuitiva porque na matemática o operador **=** é bidirecional: a expressão \"**a = b**\" significa que **a** é igual a **b** e **b** é igual a **a**.\n",
        "Ao vermos **x** aparecendo em ambos os lados, parece que podemos simplesmente cortar dos dois lados, resultando em **0 = 1**, o que é uma inverdade.\n",
        "\n",
        "Em Python o operador **=** na verdade **não é** o operador de igualdade da matemática, e sim o operador de **atribuição** de valores. Ou seja, o que ele diz é \"pegue o resultado da expressão à direita e guarde na variável à esquerda\".\n",
        "Portanto, o exemplo acima pega primeiro o valor antigo de **x**, que era 5, adiciona 1, resultando em 6, e guarda este novo resultado na variável **x**, substituindo o valor antigo. Logo, a resposta na tela é 6.\n",
        "\n",
        "Se colocarmos uma expressão desse tipo dentro de um loop, podemos gerar sequências numéricas:"
      ],
      "metadata": {
        "id": "ssqusezBzOkD"
      }
    },
    {
      "cell_type": "code",
      "source": [],
      "metadata": {
        "id": "dtnSontHzJLS"
      },
      "execution_count": null,
      "outputs": []
    },
    {
      "cell_type": "markdown",
      "source": [
        "O programa acima pede para o usuário digitar um número, que será o valor final da sequência. Então ele irá imprimir a variável **numero**, que vale 1, e somar +1 nela. Em seguida imprimirá de novo a variável, agora valendo 2, e somará +1 nela. E assim sucessivamente até que ela ultrapasse o valor final, quando o _loop_ deixará de ser executado.\n",
        "\n",
        "Você consegue modificar o programa acima para fazer uma sequência decrescente? E para gerar a tabuada de um número dado pelo usuário? Você precisará mexer na expressão lógica do loop e no incremento de **numero**.\n",
        "> Em expressões onde uma variável aparece de ambos os lados, podemos utilizar uma abreviação. Por exemplo, a expressão\n",
        "> ```x = x + 5```\n",
        "> Pode ser reescrita como:\n",
        "> ```x += 5```\n",
        "> Isso vale para todas as outras expressões aritméticas (subtração, multiplicação, divisão etc.).\n",
        "\n",
        "# 2. Comandos de manipulação de fluxo\n",
        "\n",
        "É possível manipular de algumas maneiras a forma como uma malha de repetição se comporta: nós podemos interromper sua execução sem que sua condição de parada tenha sido atingida e podemos saltar para o próximo passo sem finalizar o atual.\n",
        "\n",
        "## 2.1. Break\n",
        "\n",
        "Vamos montar um exemplo simples: imagine que você irá fazer um joguinho onde o usuário terá 10 tentativas para adivinhar um número secreto. Um bom primeiro passo seria criar um loop que conta as 10 tentativas:"
      ],
      "metadata": {
        "id": "lFt7I2RWzZpC"
      }
    },
    {
      "cell_type": "code",
      "source": [],
      "metadata": {
        "id": "SzktJpJizSMl"
      },
      "execution_count": null,
      "outputs": []
    },
    {
      "cell_type": "markdown",
      "source": [
        "No momento, mesmo que o usuário acerte, ele irá contar até a décima tentativa. Com o que já aprendemos até o momento, poderíamos consertar isso colocando uma segunda condição de parada:"
      ],
      "metadata": {
        "id": "FZjjmMb_0Btl"
      }
    },
    {
      "cell_type": "code",
      "source": [],
      "metadata": {
        "id": "WZduwJ490Cou"
      },
      "execution_count": null,
      "outputs": []
    },
    {
      "cell_type": "markdown",
      "source": [
        "Se você executar o programa, verá que ele funciona: caso o usuário acerte **ou** 10 tentativas sejam feitas, o programa encerra sua execução. Mas note que o código ficou um pouquinho mais bagunçado: estamos testando duas vezes o valor de ```tentativa```: na condição do ```while``` e na condição do ```if```. Não seria mais prático dentro do próprio ```if```, logo após informar para o usuário que ele acertou, se a gente já pudesse falar para o loop parar de ser executado?\n",
        "\n",
        "É aí que entra o **break**: quando estamos em uma malha de repetição e encontramos o comando **break**, a malha é interrompida imediatamente. Podemos reescrever o programa acima utilizando esse comando:"
      ],
      "metadata": {
        "id": "JG8tNT_R0NpZ"
      }
    },
    {
      "cell_type": "code",
      "source": [],
      "metadata": {
        "id": "Pql79SMR0HqD"
      },
      "execution_count": null,
      "outputs": []
    },
    {
      "cell_type": "markdown",
      "source": [
        "> Alguns programadores utilizam ```while True:``` (ou seja, um loop a princípio infinito) e no corpo do loop espalham combinações de ```if``` + ```break```. Exceto em situações muito específicas e raras, isso é uma má prática e deve ser evitada, pois compromete bastante a legibilidade do código, e consequentemente sua manutenção no futuro.\n",
        "\n",
        "## 2.2. Else\n",
        "\n",
        "Você pode observar que no programa acima, respondemos \"Errou\" para cada chute errado do usuário. Mas o programa ainda não informou para ele que as tentativas dele se esgotaram. Temos algumas possibilidades aqui!\n",
        "\n",
        "Uma delas seria testar o valor do contador no final do loop:"
      ],
      "metadata": {
        "id": "NskjpW8F0uZB"
      }
    },
    {
      "cell_type": "code",
      "source": [],
      "metadata": {
        "id": "8L-1wrxY0UoI"
      },
      "execution_count": null,
      "outputs": []
    },
    {
      "cell_type": "markdown",
      "source": [
        "Outra seria utilizar uma **flag**: uma variável booleana que indica se entramos no ```if``` ou não:"
      ],
      "metadata": {
        "id": "GwYvbl-F134k"
      }
    },
    {
      "cell_type": "code",
      "source": [],
      "metadata": {
        "id": "Ct5qahVy1z8D"
      },
      "execution_count": null,
      "outputs": []
    },
    {
      "cell_type": "markdown",
      "source": [
        "Na maioria das linguagens de programação, teríamos que optar por uma dessas alternativas. Comandos que estudamos aqui em Python são comuns a várias linguagens diferentes, incluindo o par ```if```/```else```, o ```while``` e o ```break```.\n",
        "\n",
        "Mas o Python possui uma ferramenta adicional bastante incomum, mas que pode simplificar problemas desse tipo. Ele permite a utilização de um ```else``` para um loop. A estrutura deve ser a seguinte:\n",
        "\n",
        "```python\n",
        "\n",
        "while (condicao_principal):\n",
        "  ...\n",
        "  ...\n",
        "  if (condicao_secundaria):\n",
        "    break\n",
        "  ...\n",
        "  ...\n",
        "else:\n",
        "  ...\n",
        "```\n"
      ],
      "metadata": {
        "id": "Z0AodXAi2T_m"
      }
    },
    {
      "cell_type": "markdown",
      "source": [
        "Esse código funcionará da seguinte maneira: se o loop parar pela condição principal (ou seja, executou a quantidade \"correta\" de repetições), o **else** será executado. Se o loop parar pela condição secundária (ou seja, por conta de um **break**), o **else** será ignorado.\n",
        "\n",
        "Sendo assim, podemos reescrever nosso programa principal de maneira mais *pythonica* utilizando esse recurso:"
      ],
      "metadata": {
        "id": "lcZCnbnz2b4E"
      }
    },
    {
      "cell_type": "code",
      "source": [],
      "metadata": {
        "id": "PHjS9wMz17C3"
      },
      "execution_count": null,
      "outputs": []
    },
    {
      "cell_type": "markdown",
      "source": [
        "Execute o programa e veja que ele só irá mostrar a mensagem de derrota quando as 10 tentativas forem concluídas.\n",
        "\n",
        "## 2.3. Continue\n",
        "\n",
        "Existe outro comando de desvio de fluxo de malhas de repetição: o ```continue```. A diferença entre ele e o ```break``` é que o ```continue``` encerra apenas o passo atual de repetição, mas ele não encerra o loop como um todo. Quando executamos esse comando, o loop irá voltar para o topo, testar novamente sua condição de parada, e caso ela não tenha sido atingida, ele iniciará uma nova **iteração** (ou seja, um novo passo em um loop).\n",
        "\n",
        "Vamos reescrever nosso programa anterior invertendo a verificação para vermos o ```continue``` em ação."
      ],
      "metadata": {
        "id": "WtYqbOCm2hRJ"
      }
    },
    {
      "cell_type": "code",
      "source": [],
      "metadata": {
        "id": "AkElDZFI2eVf"
      },
      "execution_count": null,
      "outputs": []
    },
    {
      "cell_type": "markdown",
      "source": [
        "Sempre que o usuário errar o chute, o ```continue``` irá desviar o fluxo de execução de volta para o início do loop, impedindo que as duas últimas linhas do loop sejam executadas. Ou seja, ele não irá dizer \"acertou\", tampouco executar o ```break```.\n",
        "\n",
        "> **Atenção:** todos os desvios estudados aqui podem ser utilizados, caso contrário, não existiriam. Porém, em certas situações eles podem tornar o código mais confuso. Por exemplo, quando temos diversos loops aninhados, pode não ficar claro para alguém lendo o código qual dos loops está sendo encerrado. Sempre que for utilizar esses recursos, verifiquem se eles estão melhorando ou piorando a legibilidade do código."
      ],
      "metadata": {
        "id": "w9Ly2i__2qcD"
      }
    },
    {
      "cell_type": "markdown",
      "source": [
        "# Malhas de repetição com contador\n",
        "No capítulo de malhas de repetição vimos casos em que precisamos **contar** quantas vezes o _loop_ se repete, e parar quando a contagem atinge um certo valor. Em outras ocasiões, apenas precisamos de algum tipo de sequência numérica. Nestes casos, era normal utilizar uma variável de contador, incrementá-la em cada passo e utilizar seu valor como condição de parada. O exemplo abaixo imprime todos os números pares entre 0 e 100:"
      ],
      "metadata": {
        "id": "hpBOMz2M212i"
      }
    },
    {
      "cell_type": "code",
      "source": [],
      "metadata": {
        "id": "l89ce8Fg2yE-"
      },
      "execution_count": null,
      "outputs": []
    },
    {
      "cell_type": "markdown",
      "source": [
        "Existe um meio de automatizar todas as operações envolvidas: atribuir um valor inicial, atribuir um valor final e realizar o incremento.\n",
        "\n",
        "## 1.1 _Loops_ do tipo \"para\"\n",
        "Dizemos que o exemplo acima é um _loop_ do tipo \"para\": para contador de 0 até 100 com passo 2 faça: imprima contador.\n",
        "Em Python, podemos criar esse tipo de _loop_ utilizando os comandos _for_ e _range_. O exemplo abaixo imprime os números de 0 até 9 na tela:"
      ],
      "metadata": {
        "id": "FjAbLk1w2-Aj"
      }
    },
    {
      "cell_type": "code",
      "source": [],
      "metadata": {
        "id": "SoFv4jvS253e"
      },
      "execution_count": null,
      "outputs": []
    },
    {
      "cell_type": "markdown",
      "source": [
        "O código acima é equivalente ao seguinte código utilizando ```while```:"
      ],
      "metadata": {
        "id": "PJahtJXW3Dp9"
      }
    },
    {
      "cell_type": "code",
      "source": [],
      "metadata": {
        "id": "gLJAOEI33A_R"
      },
      "execution_count": null,
      "outputs": []
    },
    {
      "cell_type": "markdown",
      "source": [
        "A palavra \"contador\" é apenas uma variável. Ela não precisa ser criada previamente: qualquer nome utilizado nesta construção será automaticamente inicializado pelo _for_.\n",
        "\n",
        "O programa acima atribui o valor inicial 0 à variável. Em seguida, ele executa tudo que vier dentro do _loop_, e ao chegar ao final, ele retorna ao início, soma 1 na variável e testa se o seu valor atingiu o número entre parênteses. Caso não tenha atingido, ele repete a execução. Dizemos que aquele número é o valor final *exclusivo* (pois o _loop_ exclui esse valor).\n",
        "\n",
        "De forma geral, tudo que vier dentro de um ```for contador in range(x)``` irá executar \"x\" vezes. É o jeito fácil de dizer \"repita essas linhas x vezes\" em Python.\n",
        "\n",
        "## 1.2 Parâmetros do _range_\n",
        "Foi dito que _loops_ do tipo \"para\" seguem a forma \"para contador de X até Y passo Z faça:\". No exemplo acima, os valores iniciais (0) e passo (1) foram atribuídos de forma automática. Caso eles sejam omitidos, 0 e 1 são os valores padrão, respectivamente. Porém, podemos determiná-los, se necessário. O exemplo abaixo inicia a impressão dos números em 1 ao invés de 0:"
      ],
      "metadata": {
        "id": "5iYChYKN3IQr"
      }
    },
    {
      "cell_type": "code",
      "source": [],
      "metadata": {
        "id": "gXHCjCtR3F_q"
      },
      "execution_count": null,
      "outputs": []
    },
    {
      "cell_type": "markdown",
      "source": [
        "\n",
        "Dizemos que esse _loop_ possui valor inicial 1, valor final (exclusivo) 10 e passo 1.\n",
        "\n",
        "O código acima é equivalente ao seguinte código utilizando ```while```:"
      ],
      "metadata": {
        "id": "WfU3rA3v3Nuz"
      }
    },
    {
      "cell_type": "code",
      "source": [],
      "metadata": {
        "id": "jQ7mHchd3LLK"
      },
      "execution_count": null,
      "outputs": []
    },
    {
      "cell_type": "markdown",
      "source": [
        "Assim como manipulamos o valor inicial e o final, podemos manipular também o passo. Veja o exemplo abaixo:"
      ],
      "metadata": {
        "id": "XL0tIYKH3R91"
      }
    },
    {
      "cell_type": "code",
      "source": [],
      "metadata": {
        "id": "fr5wfYZe3QIC"
      },
      "execution_count": null,
      "outputs": []
    },
    {
      "cell_type": "markdown",
      "source": [
        "O código acima é equivalente ao seguinte código utilizando ```while```:"
      ],
      "metadata": {
        "id": "GeAuMjQH3XBA"
      }
    },
    {
      "cell_type": "code",
      "source": [],
      "metadata": {
        "id": "tK2TkJX83UN5"
      },
      "execution_count": null,
      "outputs": []
    },
    {
      "cell_type": "markdown",
      "source": [
        "Note que o resultado dele na tela é exatamente o mesmo do exemplo com _while_ do início deste capítulo! Valor inicial 0, valor final (exclusivo) 100 e passo 2. Porém, não precisamos nos preocupar em criar o contador, atribuir valor inicial, incrementar e criar uma condição de parada. Apenas colocamos os números dentro do _range_ e ele fez a mágica por nós.\n",
        "\n",
        "Antes de finalizar, vamos reforçar: o comportamento de cada parâmetro passado para o *range* depende de quantos parâmetros foram passados e da ordem que eles foram passados:\n",
        "* 1 parâmetro = valor final exclusivo\n",
        "* 2 parâmetros = valor inicial, valor final exclusivo\n",
        "* 3 parâmetros = valor inicial, valor final exclusivo, passo\n",
        "\n",
        "Quantos exercícios de _while_ você fez que podem ser resolvidos de maneira mais fácil com o _for_?\n",
        "\n",
        "> **Dica**: é possível utilizar o _for_ para gerar sequências numéricas decrescentes também. Basta adotar valor final menor do que o inicial e incremento negativo."
      ],
      "metadata": {
        "id": "uQUZDvrK3efp"
      }
    },
    {
      "cell_type": "code",
      "source": [],
      "metadata": {
        "id": "o2QyYqHr3adH"
      },
      "execution_count": null,
      "outputs": []
    },
    {
      "cell_type": "markdown",
      "source": [
        "Qual valor será excluído da sequência: o 20 ou o 0? Tente deduzir e execute o programa para ver se acertou!\n",
        "\n",
        "\n",
        "## 1.3. Comandos de desvio de fluxo\n",
        "Os comandos de desvio de fluxo que estudamos junto do *while* (*break*, *continue* e *else*) também funcionam da mesma maneira com o *for*. Algumas observações sobre eles:\n",
        "\n",
        "* **break:** irá encerrar o loop antes de atingir o fim da sequência\n",
        "* **else:** será executado caso um break seja executado e ignorado caso o loop chegue ao final da sequência\n",
        "* **continue:** encerra o passo atual e passa para o próximo **avançando na sequência** automaticamente"
      ],
      "metadata": {
        "id": "lOA7xf2_3oh4"
      }
    },
    {
      "cell_type": "markdown",
      "source": [
        "# Listas\n",
        "Já fizemos alguns programas para ler 2 ou 3 notas e calcular a média. Inclusive já fomos além e aprendemos a verificar se o aluno passou ou não. Vamos rever um exemplo desses:"
      ],
      "metadata": {
        "id": "PRAX-zEo4ES4"
      }
    },
    {
      "cell_type": "code",
      "source": [],
      "metadata": {
        "id": "I5DheNHf3mI-"
      },
      "execution_count": null,
      "outputs": []
    },
    {
      "cell_type": "markdown",
      "source": [
        "Simples, certo? Mas e se a regra da escola mudasse, e agora cada professor precisasse aplicar 4 provas? Modificaríamos nosso programa:"
      ],
      "metadata": {
        "id": "uLqDaPIP4N3K"
      }
    },
    {
      "cell_type": "code",
      "source": [],
      "metadata": {
        "id": "ThHNzjtN4HVE"
      },
      "execution_count": null,
      "outputs": []
    },
    {
      "cell_type": "markdown",
      "source": [
        "Até aqui tudo bem. Mas e se o objetivo fosse testar o quanto o professor consegue ensinar? Para isso, poderíamos calcular a média das médias de todos os alunos do professor. Mas e se o professor trabalha em uma faculdade muito grande e suas turmas têm 80 alunos?"
      ],
      "metadata": {
        "id": "d4ZcUjCI4WLF"
      }
    },
    {
      "cell_type": "code",
      "source": [],
      "metadata": {
        "id": "Hs04050m4Q4v"
      },
      "execution_count": null,
      "outputs": []
    },
    {
      "cell_type": "markdown",
      "source": [
        "Nota do programador: eu me demito.\n",
        "Não ganho bem o suficiente para ISSO!\n",
        "\n",
        "\n",
        "Para trabalhar com poucos valores, é fácil e conveniente criar uma variável para cada valor e realizar operações individualmente sobre cada uma. Porém, dizemos que esse tipo de solução não é _escalável_: o programa não está preparado para lidar com variações no tamanho da base de dados, e modificá-lo para comportá-las pode ser difícil, trabalhoso ou mesmo inviável.\n",
        "\n",
        "Imagine se para cada novo perfil em uma rede social o estagiário precisasse criar uma variável nova para o nome, uma para o e-mail, uma para a data de nascimento, e assim sucessivamente... E depois ainda precisasse de linhas novas de código para ler cada um desses valores do novo usuário!\n",
        "\n",
        "## 1. Listas\n",
        "É aí que entram as listas. Listas são _coleções de objetos_ em Python. Falando de maneira simplificada, são variáveis que comportam diversos valores ao mesmo tempo.  Vejamos alguns jeitos de criar listas em Python:"
      ],
      "metadata": {
        "id": "kYPGg_b54n0A"
      }
    },
    {
      "cell_type": "code",
      "source": [],
      "metadata": {
        "id": "zGdaPVKT4ZZS"
      },
      "execution_count": null,
      "outputs": []
    },
    {
      "cell_type": "markdown",
      "source": [
        "Note que podemos misturar tipos de dados. A ```terceira_lista``` possui 4 **int**, um **float** e uma **str**.\n",
        "\n",
        "Bom, e agora, como fazemos para acessar cada valor? Podemos imaginar a lista da seguinte maneira: imagine que ao invés de ter uma caixa para guardar cada item, temos uma cômoda com várias gavetas. Cada item está em uma gaveta. Não estamos acostumados a dizer que algo está na terceira gaveta do armário? A ideia é a mesma: a lista é uma coleção **indexada**, ou seja, podemos acessar cada elemento através de **índices**, que são números indicando a posição.\n",
        "A indexação é automática e começa a partir do zero:\n",
        "\n",
        "| elemento | 1 | 3.14 | 5 | 7 | 9 | 11 |\n",
        "|:--------:|:-:|:----:|:-:|:-:|:-:|:--:|\n",
        "|  índice  | 0 |   1  | 2 | 3 | 4 |  5 |\n",
        "\n",
        "Portanto, para acessar o elemento \"7\" da nossa lista, utilizaríamos o índice 3. Informamos o índice entre colchetes:"
      ],
      "metadata": {
        "id": "CYRntPoA5CPt"
      }
    },
    {
      "cell_type": "code",
      "source": [],
      "metadata": {
        "id": "lxA24Q0G4-Nc"
      },
      "execution_count": null,
      "outputs": []
    },
    {
      "cell_type": "markdown",
      "source": [
        "A lista é mutável. Isso significa que podemos modificar os valores já existentes:"
      ],
      "metadata": {
        "id": "qJcKou5t5LP2"
      }
    },
    {
      "cell_type": "code",
      "source": [],
      "metadata": {
        "id": "rcFmaqz85HHc"
      },
      "execution_count": null,
      "outputs": []
    },
    {
      "cell_type": "markdown",
      "source": [
        "É possível utilizar índices negativos. ```lista[-1]``` pega o último elemento, ```lista[-2]``` o penúltimo, e assim sucessivamente. Mas **não** é possível acessar índices iguais ou superiores ao tamanho da lista. A tentativa de acessar um índice inexistente resultará em erro.\n",
        "\n",
        "# 2. Quebrando listas\n",
        "É possível pegar subconjuntos de nossas listas utilizando o conceito de _slices_. Ao invés de passar apenas 1 valor entre colchetes (o índice desejado), podemos passar faixas de valores. Veja o exemplo abaixo:"
      ],
      "metadata": {
        "id": "8NiXZeJi5RmB"
      }
    },
    {
      "cell_type": "code",
      "source": [],
      "metadata": {
        "id": "0VOeNGOQ5OSo"
      },
      "execution_count": null,
      "outputs": []
    },
    {
      "cell_type": "markdown",
      "source": [
        "O primeiro valor é o índice inicial da _sublista_ a ser gerada, e o segundo é o índice final (exclusivo). Podemos omitir um desses valores para indicar que será desde o início ou até o final:"
      ],
      "metadata": {
        "id": "ZfN1ORaK5dOy"
      }
    },
    {
      "cell_type": "code",
      "source": [],
      "metadata": {
        "id": "3D2sZvM25Yen"
      },
      "execution_count": null,
      "outputs": []
    },
    {
      "cell_type": "markdown",
      "source": [
        "Além de índices inicial e final, podemos também passar um _passo_ para os índices. Veja o exemplo abaixo:"
      ],
      "metadata": {
        "id": "ewfgInv85iun"
      }
    },
    {
      "cell_type": "code",
      "source": [],
      "metadata": {
        "id": "oLyK-ZKf5gCv"
      },
      "execution_count": null,
      "outputs": []
    },
    {
      "cell_type": "markdown",
      "source": [
        "**Atenção:** quando nós atribuímos uma lista a outra variável, a lista **não** é copiada. Observe o exemplo abaixo:"
      ],
      "metadata": {
        "id": "74fBr-b25o_i"
      }
    },
    {
      "cell_type": "code",
      "source": [],
      "metadata": {
        "id": "GJjn_1Hd5mAP"
      },
      "execution_count": null,
      "outputs": []
    },
    {
      "cell_type": "markdown",
      "source": [
        "Modificações aplicadas em lista2 também afetarão a lista1. Isso ocorre porque não foi criada uma lista. O Python apenas fez com que ambas as variáveis (lista1 e lista2) referenciassem a mesma estrutura na memória.\n",
        "\n",
        "Quando utilizamos _slices_, isso não ocorre. O Python cria uma lista contendo os valores restritos pelos índices. Sendo assim, uma estratégia fácil para copiar uma lista para outra é utilizar um _slice_ indo da primeira à última posição:"
      ],
      "metadata": {
        "id": "z-GMh8oW52aV"
      }
    },
    {
      "cell_type": "code",
      "source": [],
      "metadata": {
        "id": "71MQfqgj5xy5"
      },
      "execution_count": null,
      "outputs": []
    },
    {
      "cell_type": "markdown",
      "source": [
        "# 3. Percorrendo listas\n",
        "Suponha que você queira acessar cada elemento de sua lista individualmente. Digitar todos os índices manualmente cancelaria a _escalabilidade_ do programa, certo? Portanto, podemos usar um _loop_ para gerar os índices:"
      ],
      "metadata": {
        "id": "0eZLk7IS6M8S"
      }
    },
    {
      "cell_type": "code",
      "source": [],
      "metadata": {
        "id": "Fqq6CJ186A3s"
      },
      "execution_count": null,
      "outputs": []
    },
    {
      "cell_type": "markdown",
      "source": [
        "Porém, tem um jeito ainda **mais** fácil de percorrer a lista. O _for_ não serve apenas para gerar sequências numéricas junto do _range_: ele serve para percorrer coleções. Portanto, podemos trocar o _range_ pela própria lista:"
      ],
      "metadata": {
        "id": "EB34lLU36VHT"
      }
    },
    {
      "cell_type": "code",
      "source": [],
      "metadata": {
        "id": "KgmB2r8W6SZB"
      },
      "execution_count": null,
      "outputs": []
    },
    {
      "cell_type": "markdown",
      "source": [
        "Assim como no caso das contagens, \"elemento\" é apenas uma variável que será criada de forma automática e poderia ter qualquer nome. Em cada repetição do _loop_, um valor diferente da lista será **copiado** para _elemento_.\n",
        "\n",
        "> **Importante:** Como os elementos são copiados, caso você modifique o valor de _elemento_ você **não** irá modificar o valor na lista, e sim uma cópia dele. Além disso, como este _loop_ serve especificamente para percorrer listas, se dentro dele você fizer operações que alterem o tamanho da lista (_append_ ou _remove_, por exemplo), o _loop_ poderá executar incorretamente, pulando ou repetindo elementos.\n",
        "\n",
        "> O ```for``` serve, primariamente, para percorrer coleções. Ou seja, para **iterar** coleções. O **range** age, na prática, como se fosse uma lista contendo os valores determinados por seu parâmetro. Dizemos que a função **range** gera um **iterável**, ou seja, um tipo especial de dado que pode ser percorrido através de um loop.\n",
        "\n",
        "# 4. Testando a existência de valores\n",
        "\n",
        "Existe um comando que temos visto bastante recentemente: o *in*. Ele costuma aparecer no *for* para indicar a lista ou a sequência a ser percorrida. Mas ele também possui outra utilidade.\n",
        "\n",
        "O *in* pode ser utilizado para informar se um elemento está presente em uma lista ou não. Observe a saída do código abaixo."
      ],
      "metadata": {
        "id": "fxnbYq7-6u0s"
      }
    },
    {
      "cell_type": "code",
      "source": [],
      "metadata": {
        "id": "myA_ZNqn6Yfb"
      },
      "execution_count": null,
      "outputs": []
    },
    {
      "cell_type": "markdown",
      "source": [
        "Normalmente utilizamos esse comando junto de um *if* quando precisamos checar se um elemento existe:"
      ],
      "metadata": {
        "id": "Td1N8FFU67yG"
      }
    },
    {
      "cell_type": "code",
      "source": [],
      "metadata": {
        "id": "rqjpgG2y68aW"
      },
      "execution_count": null,
      "outputs": []
    },
    {
      "cell_type": "markdown",
      "source": [
        "# Funções de listas\n",
        "\n",
        "As listas possuem diversas funções prontas bastante úteis. Veremos algumas das mais usadas. Não se preocupe em _decorar_ todas elas: sempre podemos consultar nosso material quando precisarmos de um lembrete! Com tempo e prática você irá aos poucos memorizar algumas delas.\n",
        "\n",
        "## 1. Adicionando elementos\n",
        "Podemos adicionar novos elementos na lista de duas maneiras. A primeira delas, mais simples, é o _append_. Ele adiciona um elemento ao final da lista. Veja o exemplo abaixo:"
      ],
      "metadata": {
        "id": "tiuTZRVa7vot"
      }
    },
    {
      "cell_type": "code",
      "source": [],
      "metadata": {
        "id": "cAT6svis7AOi"
      },
      "execution_count": null,
      "outputs": []
    },
    {
      "cell_type": "markdown",
      "source": [
        "Outra maneira é com o _insert_: além do elemento, ele recebe a **posição** do novo elemento. O primeiro parâmetro é a posição, e a segunda é o valor."
      ],
      "metadata": {
        "id": "nVSIZl9477fE"
      }
    },
    {
      "cell_type": "code",
      "source": [],
      "metadata": {
        "id": "F3LY0mll7zGw"
      },
      "execution_count": null,
      "outputs": []
    },
    {
      "cell_type": "markdown",
      "source": [
        "Note que o valor que ocupava a posição anteriormente não é substituído, mas \"empurrado\" para a próxima posição.\n",
        "\n",
        "## 2. Removendo elementos\n",
        "Podemos remover o elemento de 2 jeitos: por **valor** e por **posição**.\n",
        "O _remove_ irá remover o primeiro elemento encontrado na lista com um dado valor. Ex:"
      ],
      "metadata": {
        "id": "G5IYNwt38COI"
      }
    },
    {
      "cell_type": "code",
      "source": [],
      "metadata": {
        "id": "8FP7Ic1Z79hQ"
      },
      "execution_count": null,
      "outputs": []
    },
    {
      "cell_type": "markdown",
      "source": [
        "O _pop_ remove o elemento que estiver em uma dada posição, independentemente de seu valor:"
      ],
      "metadata": {
        "id": "UhdZ1SlK8IKB"
      }
    },
    {
      "cell_type": "code",
      "source": [],
      "metadata": {
        "id": "4P7GCxCM8FsV"
      },
      "execution_count": null,
      "outputs": []
    },
    {
      "cell_type": "markdown",
      "source": [
        "Se nenhum valor for passado no pop, ele irá remover necessariamente o último elemento da lista.\n",
        "\n",
        "## 3. Ordenando a lista\n",
        "Podemos ordenar a lista usando o _sort_."
      ],
      "metadata": {
        "id": "d64-219n8WZB"
      }
    },
    {
      "cell_type": "code",
      "source": [],
      "metadata": {
        "id": "RtN332nd8Kgk"
      },
      "execution_count": null,
      "outputs": []
    },
    {
      "cell_type": "markdown",
      "source": [
        "Caso desejássemos ordenar em ordem decrescente, podemos passar a opção ```reverse = True``` para o _sort_:"
      ],
      "metadata": {
        "id": "vEbyURvZ8cAY"
      }
    },
    {
      "cell_type": "code",
      "source": [],
      "metadata": {
        "id": "CbHHqmcj8Ziz"
      },
      "execution_count": null,
      "outputs": []
    },
    {
      "cell_type": "markdown",
      "source": [
        "**Importante:** o _sort_ só irá funcionar caso sua lista possua apenas elementos que podem ser comparados entre si (apenas _strings_ ou apenas números, por exemplo). Se uma lista contém tanto _strings_ quanto números, o _sort_ não saberá o que vem primeiro.\n",
        "\n",
        "Um problema do _sort_ é que ele irá reordenar a própria lista. Muitas vezes precisamos preservar a lista original, e obter uma nova com a ordenação desejada. Neste caso, podemos utilizar o _sorted_:"
      ],
      "metadata": {
        "id": "kbqy3lqO8gyc"
      }
    },
    {
      "cell_type": "code",
      "source": [],
      "metadata": {
        "id": "H571gqLy8efr"
      },
      "execution_count": null,
      "outputs": []
    },
    {
      "cell_type": "markdown",
      "source": [
        "O _sorted_ também aceita o parâmetro _reverse_ para aplicar ordem decrescente.\n",
        "\n",
        "Falando em ordem decrescente, é possível simplesmente inverter a ordem dos elementos de uma lista utilizando o _reverse_:"
      ],
      "metadata": {
        "id": "zuS3A79L8nMM"
      }
    },
    {
      "cell_type": "code",
      "source": [],
      "metadata": {
        "id": "X7mzAYUg8jQt"
      },
      "execution_count": null,
      "outputs": []
    },
    {
      "cell_type": "markdown",
      "source": [
        "## 4. Buscando um elemento\n",
        "Podemos buscar um elemento (descobrir sua posição) utilizando a função _index_. Ela irá informar a **primeira** posição onde um elemento for encontrado:"
      ],
      "metadata": {
        "id": "nii30sTu8r-R"
      }
    },
    {
      "cell_type": "code",
      "source": [],
      "metadata": {
        "id": "N7rGAgJS8pz7"
      },
      "execution_count": null,
      "outputs": []
    },
    {
      "cell_type": "markdown",
      "source": [
        "\n",
        "> **Atenção:** caso o elemento buscado não exista, a função *index* dará erro. Considere utilizar o *in* para verificar se o elemento existe na lista antes de usar o *index*.\n",
        "\n",
        "## 5. Informações sobre a lista\n",
        "Podemos obter alguns dados sobre a nossa lista: seu tamanho atual (_len_), seu maior valor (_max_) e seu menor valor (_min_)."
      ],
      "metadata": {
        "id": "Ov1Efvnc8xsj"
      }
    },
    {
      "cell_type": "code",
      "source": [],
      "metadata": {
        "id": "uNuMXpxL8uIN"
      },
      "execution_count": null,
      "outputs": []
    },
    {
      "cell_type": "markdown",
      "source": [
        "# Funções\n",
        "Imagine que você fez um programinha para gerar estatísticas sobre vários dados dos funcionários: média dos salários, média de vendas, média de _feedback_ positivo, média de _feedback_ negativo, média de notas atribuídas pelos gestores... Você tem uma lista com os salários, uma lista com o total de vendas de cada funcionário, e assim sucessivamente. Então você fez o seguinte trecho de código:"
      ],
      "metadata": {
        "id": "rAeNsrrE-BYO"
      }
    },
    {
      "cell_type": "code",
      "source": [],
      "metadata": {
        "id": "pBURZfWT80YM"
      },
      "execution_count": null,
      "outputs": []
    },
    {
      "cell_type": "markdown",
      "source": [
        "Em seguida, você copiou e colou esse trecho de código várias vezes mudando \"lista\" pelo nome de cada lista individual, e \"media\" pelo nome do atributo. Trabalhoso, certo? Imagine que agora você percebeu o erro no trecho acima, e terá que sair corrigindo em todos os lugares onde colou o código errado. Imagina que conveniente se você pudesse arrumar apenas uma vez e todas as ocorrências fossem corrigidas automaticamente...\n",
        "## 1. Funções\n",
        "\n",
        "Uma função é um pedacinho de programa. Nós podemos dar um nome para nossa função, e toda vez que precisarmos que esse pedacinho de programa seja executado, nós o chamamos pelo nome.\n",
        "\n",
        "Com isso, podemos evitar repetição de código, tornando nossos códigos mais enxutos e legíveis. Além disso, fica mais fácil corrigir problemas como o ilustrado no início deste capítulo.\n",
        "### 1.1. Criando funções\n",
        "\n",
        "#### 1.1.1. Sintaxe básica\n",
        "Em Python, podemos criar funções com o comando _def_, e em seguida damos um nome para nossa função."
      ],
      "metadata": {
        "id": "fEdljcju-JCI"
      }
    },
    {
      "cell_type": "code",
      "source": [],
      "metadata": {
        "id": "GgQjqY3e-ERe"
      },
      "execution_count": null,
      "outputs": []
    },
    {
      "cell_type": "markdown",
      "source": [
        "Se você executar o código acima, o que aparecerá na tela? Nada. Tudo que o código acima faz é **definir** *minha_primeira_funcao*, mas ela só será **executada** quando for chamada pelo nome."
      ],
      "metadata": {
        "id": "PUvkQ1qv-QJN"
      }
    },
    {
      "cell_type": "code",
      "source": [],
      "metadata": {
        "id": "Hsn2e_pu-Ntf"
      },
      "execution_count": null,
      "outputs": []
    },
    {
      "cell_type": "markdown",
      "source": [
        "Quando **chamamos** uma função, a execução do programa principal é pausada, o fluxo de execução é desviado para a função, e ao final dela ele retornará para o ponto onde parou. Veja o exemplo abaixo:"
      ],
      "metadata": {
        "id": "dbdF31SC-Z1-"
      }
    },
    {
      "cell_type": "code",
      "source": [],
      "metadata": {
        "id": "0LLwCfBT-WJ3"
      },
      "execution_count": null,
      "outputs": []
    },
    {
      "cell_type": "markdown",
      "source": [
        "#### 1.1.2. Escopo de uma variável\n",
        "Se você criar uma variável dentro de uma função, dizemos que o escopo dessa variável é a função onde ela foi criada. Isso significa que essa variável existe apenas dentro da função e apenas durante sua execução. Se o seu programa principal possui uma variável chamada \"nome\" e uma função também possui uma variável chamada \"nome\", elas **não** são a mesma variável. Qualquer alteração feita nessa variável dentro da função não irá afetar de maneira alguma a variável externa.\n",
        "\n",
        "#### 1.1.3. Parâmetros de uma função\n",
        "Nossas funções devem ser tão genéricas quanto possível se quisermos reaproveitá-las ao máximo.\n",
        "\n",
        "Um dos pontos onde devemos tomar cuidado é na entrada de dados da função: se usarmos um _input_ dentro da função, teremos uma função que resolverá um certo problema _desde que o usuário vá digitar os dados do problema_. Mas e se quisermos usar a função em um trecho do programa onde o usuário digita os dados e em outro ponto onde os dados são lidos de um arquivo?\n",
        "\n",
        "Podemos resolver isso fazendo a leitura de dados no programa principal, fora de nossa função, e então **passaremos** os dados para a função. Dados passados para a função são chamados de _parâmetros_ ou _argumentos_ de uma função. Observe o exemplo abaixo:"
      ],
      "metadata": {
        "id": "BsYjrYg8-hCF"
      }
    },
    {
      "cell_type": "code",
      "source": [],
      "metadata": {
        "id": "fFyiZ-IZ-d8f"
      },
      "execution_count": null,
      "outputs": []
    },
    {
      "cell_type": "markdown",
      "source": [
        "Quando colocamos \"a\" e \"b\" entre parênteses na criação da função, estamos especificando que a função recebe 2 parâmetros. O primeiro valor que for **passado** entre parênteses para nossa função será referenciado por \"a\" e o segundo será referenciado por \"b\". É como se \"a\" e \"b\" fossem variáveis que vão receber a cópia dos valores passados para a função. Note que podemos passar valores puros ou variáveis (como fizemos com \"x\" na última linha), e não precisamos criar variáveis \"a\" e \"b\" em nosso programa principal para \"casar\" com os parâmetros da função.\n",
        "\n",
        "#### 1.1.4. Retorno de uma função\n",
        "Certas funções possuem uma \"resposta\": elas resolvem um problema (por exemplo, uma equação matemática) e nós estamos interessados no resultado. No exemplo anterior, tínhamos uma soma e nós imprimíamos a soma na tela.\n",
        "\n",
        "Porém, ainda pensando na questão da função ser genérica: será que nós sempre queremos o resultado na tela? Imagine que você esteja utilizando a fórmula de Bháskara para resolver uma equação de segundo grau. No meio da fórmula existe uma raiz quadrada. Nós não queremos o resultado da raiz quadrada na tela, nós queremos o resultado dentro do nosso programa em uma variável para jogar em outra equação.\n",
        "\n",
        "Bom, parece fácil: vamos tentar pegar o resultado fora da função... Certo?\n"
      ],
      "metadata": {
        "id": "-ouHQLuN-nj9"
      }
    },
    {
      "cell_type": "code",
      "source": [],
      "metadata": {
        "id": "XrrssN0F-kbB"
      },
      "execution_count": null,
      "outputs": []
    },
    {
      "cell_type": "code",
      "source": [],
      "metadata": {
        "id": "goaHcpdi-qJR"
      },
      "execution_count": null,
      "outputs": []
    },
    {
      "cell_type": "markdown",
      "source": [
        "Quando fizemos ```s = soma(10, 5)```, a função _soma_ foi chamada, e ao final da execução, _s_ recebeu o valor retornado por ela. Deste ponto em diante podemos utilizar a \"resposta\" da nossa função em nosso programa principal.\n",
        "\n",
        "O _return_, além de disponibilizar um valor, **encerra** a execução da função. Se a sua função possuir outras linhas após o _return_, elas serão ignoradas.\n",
        "\n",
        "> **Importante:** o _return_ não torna a **variável** disponível fora da função, e sim o seu valor. Mesmo fazendo ```return resultado```, se você tentar acessar ```resultado``` fora da função, você encontrará um erro. Imagine que a variável interna da sua função é uma caixinha, e o seu valor é o conteúdo da caixinha. Ao final da execução da função, a caixinha sempre será jogada fora, mas o seu conteúdo pode ser resgatado pelo programa principal ou por outra função, e eles ficam responsáveis por usar esse conteúdo e/ou armazená-lo em outra caixinha.\n",
        "\n",
        "## 2. Recursividade\n",
        "Uma função pode chamar outra função? Sim. Rode o programa abaixo e observe que ele funciona:"
      ],
      "metadata": {
        "id": "vMWickxJ-zES"
      }
    },
    {
      "cell_type": "code",
      "source": [],
      "metadata": {
        "id": "_FJImQMr-v1Y"
      },
      "execution_count": null,
      "outputs": []
    },
    {
      "cell_type": "markdown",
      "source": [
        "Mas e se uma função referenciasse ela mesma? Isso também funciona, e chama-se **função recursiva**, ou **recursão**.\n",
        "\n",
        "A ideia vem da matemática. Vejamos um exemplo. Considere a função fatorial. O fatorial de um número n qualquer é igual ao produto entre n e todos os seus antecessores inteiros positivos: n! = n x (n-1) x (n-2) x ... x 2 x 1.\n",
        "\n",
        "Considere o fatorial de 5:\n",
        "5! = 5x**4x3x2x1**\n",
        "\n",
        "Pense agora no fatorial de 4:\n",
        "4! = 4x3x2x1\n",
        "\n",
        "Note que temos destacado em negrito a expressão completa do fatorial de 4 dentro do fatorial de 5. Então é possível reescrecer o fatorial de 5 em função do fatorial de 4:\n",
        "\n",
        "5! = 5x(4!)\n",
        "\n",
        "Porém, dentro do fatorial de 4, temos o fatorial de 3, e assim sucessivamente. Podemos generalizar da seguinte maneira:\n",
        "\n",
        "f(n) =\n",
        "* 1, se n = 1\n",
        "* n * f(n-1), se x > 1\n",
        "\n",
        "Ou seja, imagine que você queira calcular f(4). Como 4 > 1, teremos:\n",
        "f(4) = 4 * f(3)\n",
        "\n",
        "Precisamos expandir f(3):\n",
        "f(4) = 4 * (3 * f(2))\n",
        "\n",
        "E assim sucessivamente:\n",
        "f(4) = 4 * (3 * (2 * f(1)))\n",
        "\n",
        "Opa, f(1) nós conhecemos: está definido lá em cima como 1.\n",
        "Portanto:\n",
        "f(4) = 4 * 3 * 2 * 1\n",
        "f(4) = 24\n",
        "\n",
        "Note que nós decompomos um problema em várias instâncias \"menores\" do problema. Quebramos a formulação de uma multiplicação enorme por vários casos de n x f(n-1). Chamamos essa estratégia de _dividir para conquistar_, e ela envolve identificar 2 etapas bastante claras do problema:\n",
        "* Caso base: é um caso para o qual temos um valor conhecido (no exemplo acima, f(1) = 1)\n",
        "* Caso geral: é a chamada recursiva, onde faremos referência à própria função.\n",
        "\n",
        "Note também que esse comportamento tem o comportamento de _pilha_: se colocamos 3 pratos empilhados sobre a mesa, precisamos tirar primeiro o último que colocamos, certo? Caso contrário, a pilha toda tomba. No caso da recursão, para obter f(4) caímos em f(3), depois f(2), depois f(1), depois f(0) e foi para ele que obtivemos a primeira resposta, que em seguida usamos para calcular f(1), depois calcular f(2), depois f(3) e só então chegamos em f(4). O primeiro passo do problema foi o último a ser resolvido.\n",
        "\n",
        "Em Python, nossa função ficaria assim:\n"
      ],
      "metadata": {
        "id": "X5EGx3HQ-7Yd"
      }
    },
    {
      "cell_type": "code",
      "source": [],
      "metadata": {
        "id": "f1h9ss3C-2R5"
      },
      "execution_count": null,
      "outputs": []
    },
    {
      "cell_type": "markdown",
      "source": [
        "Se chamarmos ```fatorial(4)```, o que acontecerá? O programa começará a executar a função, cairá no _else_ e encontrará a função chamada novamente. Neste caso, ele salva x valendo 4 e salva que a execução foi interrompida nessa linha. Então ele cria um **novo** x valendo 3, cai novamente no _else_ e salva que a execução foi interrompida nessa linha, e assim sucessivamente.\n",
        ">Note que para cada passo recursivo, as variáveis da função são copiadas e também é salvo o ponto onde a execução parou. Ou seja, funções recursivas podem consumir **bastante** memória, além de tempo de processamento para ficar criando cópias.\n",
        ">A vantagem delas é o rigor matemático: podemos transcrever funções matemáticas quase exatamente como elas são, sem criar _loops_ e variáveis para ficar guardando estados.\n",
        "\n",
        "## 3. Documentando funções\n",
        "\n",
        "### 3.1. _Type hints_\n",
        "O Python utiliza uma abordagem para tipos conhecida como _duck typing_, que é baseada no ditado \"_if it walks like a duck and it quacks like a duck, it's a duck_\", que pode ser traduzido como \"_se ele anda como um pato e grasna como um pato, ele é um pato_\".\n",
        "\n",
        "Isso significa que o Python não se importa muito com o tipo de variáveis. Nossa função soma recebe dois parâmetros e aplica o operador \"+\" entre eles. A gente pode até ter pensado em número ao criar essa função, mas o operador + também funciona entre 2 strings. Ou seja, se alguém chamar ```soma('olá', 'mundo')```, a função irá funcionar.\n",
        "\n",
        "Nem sempre esse comportamento é desejável. Muitas vezes bolamos nossa função com tipos específicos em mente, e a possibilidade de outros tipos serem passados cria o risco da função não executar corretamente, ou de retornar algum tipo de dado que pode causar problemas na integração com outros sistemas.\n",
        "\n",
        "Para evitar esse tipo de problema existe o conceito de _type hint_, onde nós podemos deixar anotado em nossas funções o tipo esperado de cada parâmetro e do retorno. Utilizaremos dois pontos entre o nome do parâmetro e o tipo esperado, e uma setinha após os parênteses para indicar o tipo de retorno:"
      ],
      "metadata": {
        "id": "4pSQyed-_DJL"
      }
    },
    {
      "cell_type": "code",
      "source": [],
      "metadata": {
        "id": "40Qt7FRh--Dl"
      },
      "execution_count": null,
      "outputs": []
    },
    {
      "cell_type": "markdown",
      "source": [
        "Note que **ainda** é possível passar *float*, *str* ou outros tipos para a função, e nesses casos ela também retornará outros tipos. Porém, as *type hints* são uma espécie de anotação, e sempre que um programador começar a digitar uma chamada para essa função, as IDEs mais modernas irão destacar para o programador quais tipos ele **deveria** passar e quais tipos ele **deveria** esperar como retorno.\n",
        "\n",
        "É possível também especificar que uma função não retorna nada:"
      ],
      "metadata": {
        "id": "46oQUBbl_Iru"
      }
    },
    {
      "cell_type": "code",
      "source": [],
      "metadata": {
        "id": "940xK2W5_GVB"
      },
      "execution_count": null,
      "outputs": []
    },
    {
      "cell_type": "markdown",
      "source": [
        "Quando tentamos pegar o retorno de uma função que não retorna nada (ex: ```x = ola_mundo()```), o programa não dará erro. Ele apenas irá armazenar na variável a constante _None_, que é um valor especial em Python que representa justamente a ausência de valor. Uma variável contendo _None_ é uma variável que existe mas não possui valor atribuído. Dessa maneira, ao anotarmos que nossa função \"retorna _None_\", estamos na prática documentando que ela não apresenta retorno.\n",
        "\n",
        "> Experimente pegar o retorno da função ```print```: execute algo como ```x = print('olá')``` e tente visualizar o valor de ```x```.\n",
        "\n",
        "Caso você queira que algum parâmetro ou o retorno seja uma coleção (ex: uma lista), basta utilizar o tipo correspondente à coleção. Porém, não é possível especificar que deve ser uma lista de strings ou uma lista de int, por exemplo, mas simplesmente uma lista."
      ],
      "metadata": {
        "id": "pNea0mIr_NLj"
      }
    },
    {
      "cell_type": "code",
      "source": [],
      "metadata": {
        "id": "_Yr5lX2d_K5r"
      },
      "execution_count": null,
      "outputs": []
    },
    {
      "cell_type": "markdown",
      "source": [
        "A partir da versão **3.10** do Python é possível utilizar o operador _pipe_ (a barra vertical: **|**) com o efeito de \"ou\" para indicar que mais de um tipo é permitido. A função abaixo recebe uma lista e promete que pode retornar int ou float:"
      ],
      "metadata": {
        "id": "nU9OYea6_RH1"
      }
    },
    {
      "cell_type": "code",
      "source": [],
      "metadata": {
        "id": "FvBIOBlY_Piz"
      },
      "execution_count": null,
      "outputs": []
    }
  ]
}